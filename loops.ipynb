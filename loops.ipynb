{
 "cells": [
  {
   "cell_type": "code",
   "execution_count": 8,
   "id": "6664a7ce",
   "metadata": {},
   "outputs": [
    {
     "name": "stdout",
     "output_type": "stream",
     "text": [
      "hello: 20\n",
      "hello: 25\n",
      "hello: 30\n",
      "hello: 35\n",
      "hello: 40\n",
      "hello: 45\n",
      "hello: 50\n"
     ]
    }
   ],
   "source": [
    "i=20\n",
    "while i<=50:\n",
    "    if i%5==0:\n",
    "        print(f\"hello: {i}\")\n",
    "    i+=1\n"
   ]
  },
  {
   "cell_type": "code",
   "execution_count": 9,
   "id": "8fdead70",
   "metadata": {},
   "outputs": [
    {
     "name": "stdout",
     "output_type": "stream",
     "text": [
      " 1\n",
      " 2\n",
      " 3\n",
      " 5\n",
      " 8\n",
      " 13\n",
      " 21\n",
      " 34\n",
      " 55\n"
     ]
    }
   ],
   "source": [
    "# 0 1 1 2 3 5 8 13 21\n",
    "# a b c\n",
    "#   a b\n",
    "\n",
    "a=0\n",
    "b=1\n",
    "\n",
    "i=1\n",
    "while i<10:\n",
    "    c=a+b\n",
    "    print(f' {c}')\n",
    "    a=b\n",
    "    b=c\n",
    "    i+=1"
   ]
  },
  {
   "cell_type": "code",
   "execution_count": 18,
   "id": "bb12fbc2",
   "metadata": {},
   "outputs": [
    {
     "name": "stdout",
     "output_type": "stream",
     "text": [
      "* \n",
      "* * \n",
      "* * * \n",
      "* * * * \n",
      "* * * * * \n"
     ]
    }
   ],
   "source": [
    "for i in range(1,6):\n",
    "    for j in range(1,i+1):\n",
    "        print('*',end=' ')\n",
    "    print('')"
   ]
  },
  {
   "cell_type": "code",
   "execution_count": 26,
   "id": "bd49a282",
   "metadata": {},
   "outputs": [
    {
     "name": "stdout",
     "output_type": "stream",
     "text": [
      "1\n",
      "2\n",
      "3\n",
      "4\n",
      "5\n",
      "6\n",
      "7\n",
      "8\n",
      "9\n",
      "10\n",
      "after loop\n"
     ]
    }
   ],
   "source": [
    "for i in range(1,11):\n",
    "    if i==5:\n",
    "        pass\n",
    "    print(i)\n",
    "    \n",
    "print('after loop')"
   ]
  },
  {
   "cell_type": "code",
   "execution_count": 34,
   "id": "3cf16de7",
   "metadata": {},
   "outputs": [
    {
     "name": "stdout",
     "output_type": "stream",
     "text": [
      "enter Number: 55\n",
      "value not found\n"
     ]
    }
   ],
   "source": [
    "l1=[23,76,93,56,19]\n",
    "val=int(input('enter Number: '))\n",
    "flag=0\n",
    "\n",
    "for i in l1:\n",
    "    if i==val:\n",
    "        flag=1\n",
    "        break\n",
    "        \n",
    "if flag==1:\n",
    "    print('value found')\n",
    "else:\n",
    "    print('value not found')"
   ]
  }
 ],
 "metadata": {
  "kernelspec": {
   "display_name": "Python 3 (ipykernel)",
   "language": "python",
   "name": "python3"
  },
  "language_info": {
   "codemirror_mode": {
    "name": "ipython",
    "version": 3
   },
   "file_extension": ".py",
   "mimetype": "text/x-python",
   "name": "python",
   "nbconvert_exporter": "python",
   "pygments_lexer": "ipython3",
   "version": "3.9.7"
  }
 },
 "nbformat": 4,
 "nbformat_minor": 5
}
