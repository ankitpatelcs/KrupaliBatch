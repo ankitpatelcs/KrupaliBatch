{
 "cells": [
  {
   "cell_type": "code",
   "execution_count": 36,
   "id": "d724f82c",
   "metadata": {},
   "outputs": [
    {
     "data": {
      "text/plain": [
       "'l.e.a.r.n.i.n.g. .P.y.t.h.o.n. .i.n. .T.O.P.S'"
      ]
     },
     "execution_count": 36,
     "metadata": {},
     "output_type": "execute_result"
    }
   ],
   "source": [
    "str1='learning Python in TOPS'\n",
    "\n",
    "'.'.join(str1)"
   ]
  },
  {
   "cell_type": "code",
   "execution_count": 37,
   "id": "19e7de88",
   "metadata": {},
   "outputs": [
    {
     "data": {
      "text/plain": [
       "'learning Python in TOPS'"
      ]
     },
     "execution_count": 37,
     "metadata": {},
     "output_type": "execute_result"
    }
   ],
   "source": [
    "l1=['learning', 'Python', 'in', 'TOPS']\n",
    "' '.join(l1)"
   ]
  },
  {
   "cell_type": "code",
   "execution_count": 42,
   "id": "fe16c45a",
   "metadata": {},
   "outputs": [
    {
     "data": {
      "text/plain": [
       "'learnang, traaning & practicing Python in TOPS'"
      ]
     },
     "execution_count": 42,
     "metadata": {},
     "output_type": "execute_result"
    }
   ],
   "source": [
    "str1='learning, training & practicing Python in TOPS'\n",
    "str1.replace('i','a',2)"
   ]
  },
  {
   "cell_type": "code",
   "execution_count": 69,
   "id": "d7e97b4c",
   "metadata": {},
   "outputs": [
    {
     "name": "stdout",
     "output_type": "stream",
     "text": [
      "learning Python in TOPS\n",
      "SPOT ni nohtyP gninrael\n"
     ]
    }
   ],
   "source": [
    "str1='learning Python in TOPS'\n",
    "print(str1)\n",
    "print(str1[::-1])\n"
   ]
  }
 ],
 "metadata": {
  "kernelspec": {
   "display_name": "Python 3 (ipykernel)",
   "language": "python",
   "name": "python3"
  },
  "language_info": {
   "codemirror_mode": {
    "name": "ipython",
    "version": 3
   },
   "file_extension": ".py",
   "mimetype": "text/x-python",
   "name": "python",
   "nbconvert_exporter": "python",
   "pygments_lexer": "ipython3",
   "version": "3.9.7"
  }
 },
 "nbformat": 4,
 "nbformat_minor": 5
}
