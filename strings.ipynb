{
 "cells": [
  {
   "cell_type": "code",
   "execution_count": 3,
   "id": "8ef20d0e",
   "metadata": {},
   "outputs": [
    {
     "name": "stdout",
     "output_type": "stream",
     "text": [
      "l\n",
      "e\n",
      "a\n",
      "r\n",
      "n\n",
      "i\n",
      "n\n",
      "g\n",
      " \n",
      "p\n",
      "y\n"
     ]
    }
   ],
   "source": [
    "s='learning python from TOPS'\n",
    "cnt=0\n",
    "for i in s:\n",
    "    if cnt<=10:\n",
    "        print(i)\n",
    "    cnt+=1"
   ]
  },
  {
   "cell_type": "code",
   "execution_count": 8,
   "id": "ae3e7c49",
   "metadata": {},
   "outputs": [
    {
     "name": "stdout",
     "output_type": "stream",
     "text": [
      "Enter string: from TOPS learning python\n",
      "max length: 8 & item: learning\n"
     ]
    }
   ],
   "source": [
    "l1=input('Enter string: ').split()\n",
    "m=0\n",
    "stritem=''\n",
    "for i in l1:\n",
    "    if len(i)>m:\n",
    "        m=len(i)\n",
    "        stritem=i\n",
    "        \n",
    "print(f'max length: {m} & item: {stritem}')"
   ]
  },
  {
   "cell_type": "code",
   "execution_count": 13,
   "id": "f7ce1048",
   "metadata": {},
   "outputs": [
    {
     "name": "stdout",
     "output_type": "stream",
     "text": [
      "Students are good in maths\n"
     ]
    }
   ],
   "source": [
    "s1='Students are poor in python but not in maths'\n",
    "ipoor=s1.index('poor')\n",
    "inot=s1.index('not')\n",
    "inotlen=inot+len('not')\n",
    "\n",
    "if inot>ipoor:\n",
    "    s2=s1[ipoor:inotlen]\n",
    "    s1=s1.replace(s2,'good')\n",
    "    print(s1)\n",
    "else:\n",
    "    print('dont replace')\n"
   ]
  },
  {
   "cell_type": "code",
   "execution_count": 27,
   "id": "f50f7554",
   "metadata": {},
   "outputs": [
    {
     "name": "stdout",
     "output_type": "stream",
     "text": [
      "empty string\n"
     ]
    }
   ],
   "source": [
    "s1='S'\n",
    "sfirst=s1[0:2]\n",
    "slast=s1[-2:]\n",
    "if len(s1)<2:\n",
    "    print('empty string')\n",
    "else:\n",
    "    print(sfirst+slast)"
   ]
  }
 ],
 "metadata": {
  "kernelspec": {
   "display_name": "Python 3 (ipykernel)",
   "language": "python",
   "name": "python3"
  },
  "language_info": {
   "codemirror_mode": {
    "name": "ipython",
    "version": 3
   },
   "file_extension": ".py",
   "mimetype": "text/x-python",
   "name": "python",
   "nbconvert_exporter": "python",
   "pygments_lexer": "ipython3",
   "version": "3.9.7"
  }
 },
 "nbformat": 4,
 "nbformat_minor": 5
}
