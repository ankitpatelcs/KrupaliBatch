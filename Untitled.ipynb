{
 "cells": [
  {
   "cell_type": "code",
   "execution_count": 10,
   "id": "7a6c5c7b",
   "metadata": {},
   "outputs": [
    {
     "name": "stdout",
     "output_type": "stream",
     "text": [
      "Welcome to Python Learning. Welcome to Python Learning.\n"
     ]
    }
   ],
   "source": [
    "print(\"Welcome to Python Learning.\",end=' ')\n",
    "print(\"Welcome to Python Learning.\")"
   ]
  },
  {
   "cell_type": "code",
   "execution_count": 25,
   "id": "46434a84",
   "metadata": {},
   "outputs": [
    {
     "name": "stdout",
     "output_type": "stream",
     "text": [
      "Name=78 and ID=78\n"
     ]
    }
   ],
   "source": [
    "# code to understand variable and accessibility\n",
    "num=78\n",
    "name=\"Krupali\"\n",
    "#print(num,name,34,'hello',sep='-')\n",
    "print(f'Name={num} and ID={num}')\n"
   ]
  },
  {
   "cell_type": "code",
   "execution_count": 15,
   "id": "c7ce937b",
   "metadata": {},
   "outputs": [],
   "source": [
    "??print"
   ]
  },
  {
   "cell_type": "code",
   "execution_count": 21,
   "id": "a89458e4",
   "metadata": {},
   "outputs": [
    {
     "name": "stdout",
     "output_type": "stream",
     "text": [
      "\\\n"
     ]
    }
   ],
   "source": [
    "print('\\\\')"
   ]
  },
  {
   "cell_type": "code",
   "execution_count": 29,
   "id": "4de7bfb1",
   "metadata": {},
   "outputs": [
    {
     "name": "stdout",
     "output_type": "stream",
     "text": [
      "C:\\Ankit Patel\\Lectures\n"
     ]
    }
   ],
   "source": [
    "print(r'C:\\Ankit Patel\\Lectures')"
   ]
  },
  {
   "cell_type": "code",
   "execution_count": 33,
   "id": "92b1b135",
   "metadata": {},
   "outputs": [
    {
     "name": "stdout",
     "output_type": "stream",
     "text": [
      "67\n"
     ]
    }
   ],
   "source": [
    "num='67'\n",
    "num2=89\n",
    "num2=int(num)\n",
    "print(num2)"
   ]
  },
  {
   "cell_type": "code",
   "execution_count": 35,
   "id": "b07eaa65",
   "metadata": {},
   "outputs": [
    {
     "name": "stdout",
     "output_type": "stream",
     "text": [
      "Enter name: Rinkal\n",
      "Rinkal\n",
      "Enter Number: 99\n",
      "99\n"
     ]
    }
   ],
   "source": [
    "name=input('Enter name: ')\n",
    "print(name)\n",
    "num=int(input('Enter Number: '))\n",
    "print(num)"
   ]
  }
 ],
 "metadata": {
  "kernelspec": {
   "display_name": "Python 3 (ipykernel)",
   "language": "python",
   "name": "python3"
  },
  "language_info": {
   "codemirror_mode": {
    "name": "ipython",
    "version": 3
   },
   "file_extension": ".py",
   "mimetype": "text/x-python",
   "name": "python",
   "nbconvert_exporter": "python",
   "pygments_lexer": "ipython3",
   "version": "3.9.7"
  }
 },
 "nbformat": 4,
 "nbformat_minor": 5
}
