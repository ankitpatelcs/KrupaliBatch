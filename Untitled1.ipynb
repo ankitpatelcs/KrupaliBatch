{
 "cells": [
  {
   "cell_type": "code",
   "execution_count": 8,
   "id": "3a8a01e0",
   "metadata": {},
   "outputs": [
    {
     "name": "stdout",
     "output_type": "stream",
     "text": [
      "enter text: 63.5\n"
     ]
    },
    {
     "data": {
      "text/plain": [
       "int"
      ]
     },
     "execution_count": 8,
     "metadata": {},
     "output_type": "execute_result"
    }
   ],
   "source": [
    "name=float(input('enter text: '))\n",
    "name1=int(name)\n",
    "type(name1)"
   ]
  },
  {
   "cell_type": "code",
   "execution_count": 20,
   "id": "39ddc76c",
   "metadata": {},
   "outputs": [
    {
     "name": "stdout",
     "output_type": "stream",
     "text": [
      "enter string: kjhfgyug\n",
      "['kjhfgyug']\n"
     ]
    }
   ],
   "source": [
    "str1=input('enter string: ').split(',')\n",
    "print(str1)"
   ]
  },
  {
   "cell_type": "code",
   "execution_count": 19,
   "id": "e4b0271d",
   "metadata": {},
   "outputs": [
    {
     "name": "stdout",
     "output_type": "stream",
     "text": [
      "Name: Rinkal, ID: 58\n"
     ]
    }
   ],
   "source": [
    "name='Rinkal'\n",
    "num='58'\n",
    "print(f\"Name: {name}, ID: {num}\")"
   ]
  },
  {
   "cell_type": "code",
   "execution_count": 34,
   "id": "c9fe2ca5",
   "metadata": {},
   "outputs": [
    {
     "data": {
      "text/plain": [
       "5"
      ]
     },
     "execution_count": 34,
     "metadata": {},
     "output_type": "execute_result"
    }
   ],
   "source": [
    "num1=53\n",
    "num2=10\n",
    "ans=num1//num2\n",
    "ans"
   ]
  },
  {
   "cell_type": "code",
   "execution_count": 44,
   "id": "41b032e2",
   "metadata": {},
   "outputs": [
    {
     "name": "stderr",
     "output_type": "stream",
     "text": [
      "<>:4: SyntaxWarning: \"is not\" with a literal. Did you mean \"!=\"?\n",
      "<>:4: SyntaxWarning: \"is not\" with a literal. Did you mean \"!=\"?\n",
      "C:\\Users\\ANKITP~1\\AppData\\Local\\Temp/ipykernel_1368/440602269.py:4: SyntaxWarning: \"is not\" with a literal. Did you mean \"!=\"?\n",
      "  num1 is not 5\n"
     ]
    },
    {
     "data": {
      "text/plain": [
       "False"
      ]
     },
     "execution_count": 44,
     "metadata": {},
     "output_type": "execute_result"
    }
   ],
   "source": [
    "num1=5\n",
    "num2=6\n",
    "\n",
    "num1 is not 5"
   ]
  }
 ],
 "metadata": {
  "kernelspec": {
   "display_name": "Python 3 (ipykernel)",
   "language": "python",
   "name": "python3"
  },
  "language_info": {
   "codemirror_mode": {
    "name": "ipython",
    "version": 3
   },
   "file_extension": ".py",
   "mimetype": "text/x-python",
   "name": "python",
   "nbconvert_exporter": "python",
   "pygments_lexer": "ipython3",
   "version": "3.9.7"
  }
 },
 "nbformat": 4,
 "nbformat_minor": 5
}
