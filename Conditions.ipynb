{
 "cells": [
  {
   "cell_type": "code",
   "execution_count": 20,
   "id": "e491ea30",
   "metadata": {},
   "outputs": [
    {
     "name": "stdout",
     "output_type": "stream",
     "text": [
      "number is greater\n",
      "outside if\n"
     ]
    }
   ],
   "source": [
    "num=80\n",
    "if num>50:\n",
    "    print ('number is greater')\n",
    "else:\n",
    "    print('number is lessor')\n",
    "print('outside if')"
   ]
  },
  {
   "cell_type": "code",
   "execution_count": 22,
   "id": "e9a887f8",
   "metadata": {},
   "outputs": [
    {
     "name": "stdout",
     "output_type": "stream",
     "text": [
      "Enter Number: 96\n",
      "96 is even\n"
     ]
    }
   ],
   "source": [
    "#odd - even\n",
    "num=int(input('Enter Number: '))\n",
    "if num%2==0:\n",
    "    print(f'{num} is even')\n",
    "else:\n",
    "    print(f'{num} is odd')"
   ]
  },
  {
   "cell_type": "code",
   "execution_count": 26,
   "id": "2a224f74",
   "metadata": {},
   "outputs": [
    {
     "name": "stdout",
     "output_type": "stream",
     "text": [
      "number is equal to 100\n"
     ]
    }
   ],
   "source": [
    "num=100\n",
    "if num>=100:\n",
    "    print('number is greater than 100')\n",
    "elif num<100:\n",
    "    print('number is less than 100')\n",
    "else:\n",
    "    print('number is equal to 100')"
   ]
  },
  {
   "cell_type": "code",
   "execution_count": 27,
   "id": "610263eb",
   "metadata": {},
   "outputs": [
    {
     "name": "stdout",
     "output_type": "stream",
     "text": [
      "number is +ve\n"
     ]
    }
   ],
   "source": [
    "num=100\n",
    "if num>0:\n",
    "    print('number is +ve')\n",
    "elif num<0:\n",
    "    print('number is -ve')\n",
    "else:\n",
    "    print('number is 0')"
   ]
  },
  {
   "cell_type": "code",
   "execution_count": 30,
   "id": "fcec52f2",
   "metadata": {},
   "outputs": [
    {
     "name": "stdout",
     "output_type": "stream",
     "text": [
      "Addition: 0\n"
     ]
    }
   ],
   "source": [
    "num1=23\n",
    "num2=23\n",
    "num3=23\n",
    "\n",
    "if num1==num2 and num2==num3:\n",
    "    print('Addition: 0')\n",
    "else:\n",
    "    add=num1+num2+num3\n",
    "    print(f'Addition: {add}')"
   ]
  },
  {
   "cell_type": "code",
   "execution_count": 1,
   "id": "2ffa70d6",
   "metadata": {},
   "outputs": [
    {
     "name": "stdout",
     "output_type": "stream",
     "text": [
      "number is greater but not div by 5\n"
     ]
    }
   ],
   "source": [
    "num1=4\n",
    "if num1>10:\n",
    "    if num1%5==0:\n",
    "        print('number is greater and div by 5')\n",
    "    else:\n",
    "        print('number is greater but not div by 5')\n",
    "else:\n",
    "    print('all false')\n",
    "\n",
    "    "
   ]
  }
 ],
 "metadata": {
  "kernelspec": {
   "display_name": "Python 3 (ipykernel)",
   "language": "python",
   "name": "python3"
  },
  "language_info": {
   "codemirror_mode": {
    "name": "ipython",
    "version": 3
   },
   "file_extension": ".py",
   "mimetype": "text/x-python",
   "name": "python",
   "nbconvert_exporter": "python",
   "pygments_lexer": "ipython3",
   "version": "3.9.7"
  }
 },
 "nbformat": 4,
 "nbformat_minor": 5
}
