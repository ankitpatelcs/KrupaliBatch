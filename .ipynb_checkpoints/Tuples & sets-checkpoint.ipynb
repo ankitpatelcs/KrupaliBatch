{
 "cells": [
  {
   "cell_type": "code",
   "execution_count": 9,
   "id": "86299ffa",
   "metadata": {},
   "outputs": [
    {
     "data": {
      "text/plain": [
       "('mango', 'apple', 'orange', [33, 66, 88], True)"
      ]
     },
     "execution_count": 9,
     "metadata": {},
     "output_type": "execute_result"
    }
   ],
   "source": [
    "fruits=('mango','apple','orange',[33,66,88])\n",
    "l=list(fruits)\n",
    "l.append(True)\n",
    "fruits=tuple(l)\n",
    "fruits"
   ]
  },
  {
   "cell_type": "code",
   "execution_count": 22,
   "id": "81e042f3",
   "metadata": {},
   "outputs": [
    {
     "data": {
      "text/plain": [
       "{2, 3, 45, 5, 7, False, True, 'rinkal'}"
      ]
     },
     "execution_count": 22,
     "metadata": {},
     "output_type": "execute_result"
    }
   ],
   "source": [
    "s={'rinkal',True,False,2,5,7}\n",
    "s.update([2,3,45])\n",
    "s"
   ]
  },
  {
   "cell_type": "code",
   "execution_count": null,
   "id": "864ebd2d",
   "metadata": {},
   "outputs": [],
   "source": [
    "f=('mango','apple','orange',[33,66,88],'mango')\n",
    "for i in f:\n",
    "    if f.count(i)>1:\n",
    "        "
   ]
  }
 ],
 "metadata": {
  "kernelspec": {
   "display_name": "Python 3 (ipykernel)",
   "language": "python",
   "name": "python3"
  },
  "language_info": {
   "codemirror_mode": {
    "name": "ipython",
    "version": 3
   },
   "file_extension": ".py",
   "mimetype": "text/x-python",
   "name": "python",
   "nbconvert_exporter": "python",
   "pygments_lexer": "ipython3",
   "version": "3.9.7"
  }
 },
 "nbformat": 4,
 "nbformat_minor": 5
}
