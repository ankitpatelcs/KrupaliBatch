{
 "cells": [
  {
   "cell_type": "code",
   "execution_count": 20,
   "id": "1cd629dc",
   "metadata": {},
   "outputs": [
    {
     "name": "stdout",
     "output_type": "stream",
     "text": [
      "number is greater\n",
      "outside if\n"
     ]
    }
   ],
   "source": [
    "num=80\n",
    "if num>50:\n",
    "    print ('number is greater')\n",
    "else:\n",
    "    print('number is lessor')\n",
    "print('outside if')"
   ]
  },
  {
   "cell_type": "code",
   "execution_count": 22,
   "id": "dba587c3",
   "metadata": {},
   "outputs": [
    {
     "name": "stdout",
     "output_type": "stream",
     "text": [
      "Enter Number: 96\n",
      "96 is even\n"
     ]
    }
   ],
   "source": [
    "#odd - even\n",
    "num=int(input('Enter Number: '))\n",
    "if num%2==0:\n",
    "    print(f'{num} is even')\n",
    "else:\n",
    "    print(f'{num} is odd')"
   ]
  },
  {
   "cell_type": "code",
   "execution_count": 25,
   "id": "8cdecad3",
   "metadata": {},
   "outputs": [
    {
     "name": "stdout",
     "output_type": "stream",
     "text": [
      "number is less than 100\n"
     ]
    }
   ],
   "source": [
    "num=100\n",
    "if num>100:\n",
    "    print('number is greater than 100')\n",
    "elif num<100:\n",
    "    print('number is less than 100')\n",
    "else:\n",
    "    print('number is equal to 100')"
   ]
  }
 ],
 "metadata": {
  "kernelspec": {
   "display_name": "Python 3 (ipykernel)",
   "language": "python",
   "name": "python3"
  },
  "language_info": {
   "codemirror_mode": {
    "name": "ipython",
    "version": 3
   },
   "file_extension": ".py",
   "mimetype": "text/x-python",
   "name": "python",
   "nbconvert_exporter": "python",
   "pygments_lexer": "ipython3",
   "version": "3.9.7"
  }
 },
 "nbformat": 4,
 "nbformat_minor": 5
}
