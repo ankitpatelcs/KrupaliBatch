{
 "cells": [
  {
   "cell_type": "code",
   "execution_count": 10,
   "id": "5ed8e208",
   "metadata": {},
   "outputs": [
    {
     "name": "stdout",
     "output_type": "stream",
     "text": [
      "Welcome to Python Learning. Welcome to Python Learning.\n"
     ]
    }
   ],
   "source": [
    "print(\"Welcome to Python Learning.\",end=' ')\n",
    "print(\"Welcome to Python Learning.\")"
   ]
  },
  {
   "cell_type": "code",
   "execution_count": 25,
   "id": "0b9dc3c2",
   "metadata": {},
   "outputs": [
    {
     "name": "stdout",
     "output_type": "stream",
     "text": [
      "Name=78 and ID=78\n"
     ]
    }
   ],
   "source": [
    "# code to understand variable and accessibility\n",
    "num=78\n",
    "name=\"Krupali\"\n",
    "#print(num,name,34,'hello',sep='-')\n",
    "print(f'Name={num} and ID={num}')\n"
   ]
  },
  {
   "cell_type": "code",
   "execution_count": 15,
   "id": "d4d20826",
   "metadata": {},
   "outputs": [],
   "source": [
    "??print"
   ]
  },
  {
   "cell_type": "code",
   "execution_count": 21,
   "id": "3076b3b3",
   "metadata": {},
   "outputs": [
    {
     "name": "stdout",
     "output_type": "stream",
     "text": [
      "\\\n"
     ]
    }
   ],
   "source": [
    "print('\\\\')"
   ]
  },
  {
   "cell_type": "code",
   "execution_count": 28,
   "id": "23f8aeb2",
   "metadata": {},
   "outputs": [
    {
     "name": "stdout",
     "output_type": "stream",
     "text": [
      "hello Krupali\\narana\n"
     ]
    }
   ],
   "source": [
    "print(r'C:\\Ankit Patel\\Lectures')"
   ]
  }
 ],
 "metadata": {
  "kernelspec": {
   "display_name": "Python 3 (ipykernel)",
   "language": "python",
   "name": "python3"
  },
  "language_info": {
   "codemirror_mode": {
    "name": "ipython",
    "version": 3
   },
   "file_extension": ".py",
   "mimetype": "text/x-python",
   "name": "python",
   "nbconvert_exporter": "python",
   "pygments_lexer": "ipython3",
   "version": "3.9.7"
  }
 },
 "nbformat": 4,
 "nbformat_minor": 5
}
