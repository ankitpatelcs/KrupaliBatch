{
 "cells": [
  {
   "cell_type": "code",
   "execution_count": 25,
   "id": "c8a97f27",
   "metadata": {},
   "outputs": [
    {
     "data": {
      "text/plain": [
       "{1: 3, 'name': 'krupali', 'abc': 55.5, 'company': 'TOPS'}"
      ]
     },
     "execution_count": 25,
     "metadata": {},
     "output_type": "execute_result"
    }
   ],
   "source": [
    "d1={1:3,'name':'krupali','abc':55.5}\n",
    "d2={'company':'TOPS'}\n",
    "\n",
    "d1.update(d2)\n",
    "d1\n"
   ]
  },
  {
   "cell_type": "code",
   "execution_count": 26,
   "id": "f5fe5b1e",
   "metadata": {},
   "outputs": [
    {
     "name": "stdout",
     "output_type": "stream",
     "text": [
      "2 hgjk\n",
      "5 98\n",
      "10 opiui\n"
     ]
    }
   ],
   "source": [
    "d={2:'hgjk',5:98,10:'opiui',20:77}\n",
    "\n",
    "for k,v in d.items():"
   ]
  }
 ],
 "metadata": {
  "kernelspec": {
   "display_name": "Python 3 (ipykernel)",
   "language": "python",
   "name": "python3"
  },
  "language_info": {
   "codemirror_mode": {
    "name": "ipython",
    "version": 3
   },
   "file_extension": ".py",
   "mimetype": "text/x-python",
   "name": "python",
   "nbconvert_exporter": "python",
   "pygments_lexer": "ipython3",
   "version": "3.9.7"
  }
 },
 "nbformat": 4,
 "nbformat_minor": 5
}
